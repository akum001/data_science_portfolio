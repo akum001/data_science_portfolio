{
 "cells": [
  {
   "cell_type": "code",
   "execution_count": 59,
   "metadata": {},
   "outputs": [],
   "source": [
    "from pandas_datareader import data, wb\n",
    "import pandas as pd\n",
    "import numpy as np\n",
    "\n",
    "#visualization imports\n",
    "import matplotlib.pyplot as plt\n",
    "import seaborn as sns\n",
    "sns.set_style('whitegrid')\n",
    "%matplotlib inline\n",
    "\n",
    "#grab data imports\n",
    "from datetime import datetime"
   ]
  },
  {
   "cell_type": "code",
   "execution_count": 61,
   "metadata": {},
   "outputs": [],
   "source": [
    "#Setting the end date to today\n",
    "end=datetime(2016,1,1)\n",
    "\n",
    "#Start date set to one year back\n",
    "start = datetime(2006,1,1)"
   ]
  },
  {
   "cell_type": "code",
   "execution_count": 62,
   "metadata": {},
   "outputs": [],
   "source": [
    "#We are going to analyze the top four giants.\n",
    "# I am taking stock data from quandl because facing some issue with yahoo and google\n",
    "\n",
    "BAC=data.DataReader('BAC','quandl',start,end)  #Bank of America Corp\n",
    "GS=data.DataReader(\"GS\",'quandl',start,end)    #Goldman Sachs Group Inc\n",
    "JPM=data.DataReader(\"JPM\",'quandl',start,end)   #JPMorgan Chase & Co.\n",
    "AAPL=data.DataReader(\"AAPL\",'quandl',start,end)  #Apple Inc."
   ]
  },
  {
   "cell_type": "code",
   "execution_count": 63,
   "metadata": {},
   "outputs": [
    {
     "data": {
      "text/html": [
       "<div>\n",
       "<style scoped>\n",
       "    .dataframe tbody tr th:only-of-type {\n",
       "        vertical-align: middle;\n",
       "    }\n",
       "\n",
       "    .dataframe tbody tr th {\n",
       "        vertical-align: top;\n",
       "    }\n",
       "\n",
       "    .dataframe thead th {\n",
       "        text-align: right;\n",
       "    }\n",
       "</style>\n",
       "<table border=\"1\" class=\"dataframe\">\n",
       "  <thead>\n",
       "    <tr style=\"text-align: right;\">\n",
       "      <th></th>\n",
       "      <th>Open</th>\n",
       "      <th>High</th>\n",
       "      <th>Low</th>\n",
       "      <th>Close</th>\n",
       "      <th>Volume</th>\n",
       "      <th>ExDividend</th>\n",
       "      <th>SplitRatio</th>\n",
       "      <th>AdjOpen</th>\n",
       "      <th>AdjHigh</th>\n",
       "      <th>AdjLow</th>\n",
       "      <th>AdjClose</th>\n",
       "      <th>AdjVolume</th>\n",
       "    </tr>\n",
       "    <tr>\n",
       "      <th>Date</th>\n",
       "      <th></th>\n",
       "      <th></th>\n",
       "      <th></th>\n",
       "      <th></th>\n",
       "      <th></th>\n",
       "      <th></th>\n",
       "      <th></th>\n",
       "      <th></th>\n",
       "      <th></th>\n",
       "      <th></th>\n",
       "      <th></th>\n",
       "      <th></th>\n",
       "    </tr>\n",
       "  </thead>\n",
       "  <tbody>\n",
       "    <tr>\n",
       "      <th>2015-12-31</th>\n",
       "      <td>107.01</td>\n",
       "      <td>107.03</td>\n",
       "      <td>104.8200</td>\n",
       "      <td>105.26</td>\n",
       "      <td>40912316.0</td>\n",
       "      <td>0.0</td>\n",
       "      <td>1.0</td>\n",
       "      <td>103.387570</td>\n",
       "      <td>103.406893</td>\n",
       "      <td>101.271705</td>\n",
       "      <td>101.696810</td>\n",
       "      <td>40912316.0</td>\n",
       "    </tr>\n",
       "    <tr>\n",
       "      <th>2015-12-30</th>\n",
       "      <td>108.58</td>\n",
       "      <td>108.70</td>\n",
       "      <td>107.1800</td>\n",
       "      <td>107.32</td>\n",
       "      <td>25213777.0</td>\n",
       "      <td>0.0</td>\n",
       "      <td>1.0</td>\n",
       "      <td>104.904424</td>\n",
       "      <td>105.020361</td>\n",
       "      <td>103.551815</td>\n",
       "      <td>103.687076</td>\n",
       "      <td>25213777.0</td>\n",
       "    </tr>\n",
       "    <tr>\n",
       "      <th>2015-12-29</th>\n",
       "      <td>106.96</td>\n",
       "      <td>109.43</td>\n",
       "      <td>106.8600</td>\n",
       "      <td>108.74</td>\n",
       "      <td>30931243.0</td>\n",
       "      <td>0.0</td>\n",
       "      <td>1.0</td>\n",
       "      <td>103.339263</td>\n",
       "      <td>105.725650</td>\n",
       "      <td>103.242648</td>\n",
       "      <td>105.059007</td>\n",
       "      <td>30931243.0</td>\n",
       "    </tr>\n",
       "    <tr>\n",
       "      <th>2015-12-28</th>\n",
       "      <td>107.59</td>\n",
       "      <td>107.69</td>\n",
       "      <td>106.1807</td>\n",
       "      <td>106.82</td>\n",
       "      <td>26704210.0</td>\n",
       "      <td>0.0</td>\n",
       "      <td>1.0</td>\n",
       "      <td>103.947936</td>\n",
       "      <td>104.044551</td>\n",
       "      <td>102.586343</td>\n",
       "      <td>103.204002</td>\n",
       "      <td>26704210.0</td>\n",
       "    </tr>\n",
       "    <tr>\n",
       "      <th>2015-12-24</th>\n",
       "      <td>109.00</td>\n",
       "      <td>109.00</td>\n",
       "      <td>107.9500</td>\n",
       "      <td>108.03</td>\n",
       "      <td>13596680.0</td>\n",
       "      <td>0.0</td>\n",
       "      <td>1.0</td>\n",
       "      <td>105.310206</td>\n",
       "      <td>105.310206</td>\n",
       "      <td>104.295750</td>\n",
       "      <td>104.373042</td>\n",
       "      <td>13596680.0</td>\n",
       "    </tr>\n",
       "  </tbody>\n",
       "</table>\n",
       "</div>"
      ],
      "text/plain": [
       "              Open    High       Low   Close      Volume  ExDividend  \\\n",
       "Date                                                                   \n",
       "2015-12-31  107.01  107.03  104.8200  105.26  40912316.0         0.0   \n",
       "2015-12-30  108.58  108.70  107.1800  107.32  25213777.0         0.0   \n",
       "2015-12-29  106.96  109.43  106.8600  108.74  30931243.0         0.0   \n",
       "2015-12-28  107.59  107.69  106.1807  106.82  26704210.0         0.0   \n",
       "2015-12-24  109.00  109.00  107.9500  108.03  13596680.0         0.0   \n",
       "\n",
       "            SplitRatio     AdjOpen     AdjHigh      AdjLow    AdjClose  \\\n",
       "Date                                                                     \n",
       "2015-12-31         1.0  103.387570  103.406893  101.271705  101.696810   \n",
       "2015-12-30         1.0  104.904424  105.020361  103.551815  103.687076   \n",
       "2015-12-29         1.0  103.339263  105.725650  103.242648  105.059007   \n",
       "2015-12-28         1.0  103.947936  104.044551  102.586343  103.204002   \n",
       "2015-12-24         1.0  105.310206  105.310206  104.295750  104.373042   \n",
       "\n",
       "             AdjVolume  \n",
       "Date                    \n",
       "2015-12-31  40912316.0  \n",
       "2015-12-30  25213777.0  \n",
       "2015-12-29  30931243.0  \n",
       "2015-12-28  26704210.0  \n",
       "2015-12-24  13596680.0  "
      ]
     },
     "execution_count": 63,
     "metadata": {},
     "output_type": "execute_result"
    }
   ],
   "source": [
    "AAPL.head()"
   ]
  },
  {
   "cell_type": "markdown",
   "metadata": {
    "collapsed": true
   },
   "source": [
    "### Creating a list of the ticker symbols (as strings) in alphabetical order. Call this list: tickers"
   ]
  },
  {
   "cell_type": "code",
   "execution_count": 64,
   "metadata": {},
   "outputs": [],
   "source": [
    "tickers = ['AAPL','BAC','GS','JPM']"
   ]
  },
  {
   "cell_type": "markdown",
   "metadata": {},
   "source": [
    "### Using pd.concat to concatenate the bank dataframes together to a single data frame called bank_stocks. Set the keys argument equal to the tickers list. Also pay attention to what axis you concatenate on."
   ]
  },
  {
   "cell_type": "code",
   "execution_count": 65,
   "metadata": {},
   "outputs": [],
   "source": [
    "bank_stocks = pd.concat([AAPL,BAC,GS,JPM], axis=1 ,keys=tickers)"
   ]
  },
  {
   "cell_type": "code",
   "execution_count": 66,
   "metadata": {},
   "outputs": [
    {
     "data": {
      "text/html": [
       "<div>\n",
       "<style scoped>\n",
       "    .dataframe tbody tr th:only-of-type {\n",
       "        vertical-align: middle;\n",
       "    }\n",
       "\n",
       "    .dataframe tbody tr th {\n",
       "        vertical-align: top;\n",
       "    }\n",
       "\n",
       "    .dataframe thead tr th {\n",
       "        text-align: left;\n",
       "    }\n",
       "\n",
       "    .dataframe thead tr:last-of-type th {\n",
       "        text-align: right;\n",
       "    }\n",
       "</style>\n",
       "<table border=\"1\" class=\"dataframe\">\n",
       "  <thead>\n",
       "    <tr>\n",
       "      <th></th>\n",
       "      <th colspan=\"10\" halign=\"left\">AAPL</th>\n",
       "      <th>...</th>\n",
       "      <th colspan=\"10\" halign=\"left\">JPM</th>\n",
       "    </tr>\n",
       "    <tr>\n",
       "      <th></th>\n",
       "      <th>Open</th>\n",
       "      <th>High</th>\n",
       "      <th>Low</th>\n",
       "      <th>Close</th>\n",
       "      <th>Volume</th>\n",
       "      <th>ExDividend</th>\n",
       "      <th>SplitRatio</th>\n",
       "      <th>AdjOpen</th>\n",
       "      <th>AdjHigh</th>\n",
       "      <th>AdjLow</th>\n",
       "      <th>...</th>\n",
       "      <th>Low</th>\n",
       "      <th>Close</th>\n",
       "      <th>Volume</th>\n",
       "      <th>ExDividend</th>\n",
       "      <th>SplitRatio</th>\n",
       "      <th>AdjOpen</th>\n",
       "      <th>AdjHigh</th>\n",
       "      <th>AdjLow</th>\n",
       "      <th>AdjClose</th>\n",
       "      <th>AdjVolume</th>\n",
       "    </tr>\n",
       "    <tr>\n",
       "      <th>Date</th>\n",
       "      <th></th>\n",
       "      <th></th>\n",
       "      <th></th>\n",
       "      <th></th>\n",
       "      <th></th>\n",
       "      <th></th>\n",
       "      <th></th>\n",
       "      <th></th>\n",
       "      <th></th>\n",
       "      <th></th>\n",
       "      <th></th>\n",
       "      <th></th>\n",
       "      <th></th>\n",
       "      <th></th>\n",
       "      <th></th>\n",
       "      <th></th>\n",
       "      <th></th>\n",
       "      <th></th>\n",
       "      <th></th>\n",
       "      <th></th>\n",
       "      <th></th>\n",
       "    </tr>\n",
       "  </thead>\n",
       "  <tbody>\n",
       "    <tr>\n",
       "      <th>2015-12-31</th>\n",
       "      <td>107.01</td>\n",
       "      <td>107.03</td>\n",
       "      <td>104.82</td>\n",
       "      <td>105.26</td>\n",
       "      <td>40912316.0</td>\n",
       "      <td>0.0</td>\n",
       "      <td>1.0</td>\n",
       "      <td>103.387570</td>\n",
       "      <td>103.406893</td>\n",
       "      <td>101.271705</td>\n",
       "      <td>...</td>\n",
       "      <td>66.00</td>\n",
       "      <td>66.03</td>\n",
       "      <td>14654049.0</td>\n",
       "      <td>0.0</td>\n",
       "      <td>1.0</td>\n",
       "      <td>62.859378</td>\n",
       "      <td>63.419785</td>\n",
       "      <td>62.678939</td>\n",
       "      <td>62.707429</td>\n",
       "      <td>14654049.0</td>\n",
       "    </tr>\n",
       "    <tr>\n",
       "      <th>2015-12-30</th>\n",
       "      <td>108.58</td>\n",
       "      <td>108.70</td>\n",
       "      <td>107.18</td>\n",
       "      <td>107.32</td>\n",
       "      <td>25213777.0</td>\n",
       "      <td>0.0</td>\n",
       "      <td>1.0</td>\n",
       "      <td>104.904424</td>\n",
       "      <td>105.020361</td>\n",
       "      <td>103.551815</td>\n",
       "      <td>...</td>\n",
       "      <td>66.45</td>\n",
       "      <td>66.59</td>\n",
       "      <td>7189850.0</td>\n",
       "      <td>0.0</td>\n",
       "      <td>1.0</td>\n",
       "      <td>63.666607</td>\n",
       "      <td>63.676104</td>\n",
       "      <td>63.106295</td>\n",
       "      <td>63.239250</td>\n",
       "      <td>7189850.0</td>\n",
       "    </tr>\n",
       "    <tr>\n",
       "      <th>2015-12-29</th>\n",
       "      <td>106.96</td>\n",
       "      <td>109.43</td>\n",
       "      <td>106.86</td>\n",
       "      <td>108.74</td>\n",
       "      <td>30931243.0</td>\n",
       "      <td>0.0</td>\n",
       "      <td>1.0</td>\n",
       "      <td>103.339263</td>\n",
       "      <td>105.725650</td>\n",
       "      <td>103.242648</td>\n",
       "      <td>...</td>\n",
       "      <td>66.74</td>\n",
       "      <td>67.07</td>\n",
       "      <td>9820660.0</td>\n",
       "      <td>0.0</td>\n",
       "      <td>1.0</td>\n",
       "      <td>63.476671</td>\n",
       "      <td>63.913524</td>\n",
       "      <td>63.381702</td>\n",
       "      <td>63.695097</td>\n",
       "      <td>9820660.0</td>\n",
       "    </tr>\n",
       "  </tbody>\n",
       "</table>\n",
       "<p>3 rows × 48 columns</p>\n",
       "</div>"
      ],
      "text/plain": [
       "              AAPL                                                            \\\n",
       "              Open    High     Low   Close      Volume ExDividend SplitRatio   \n",
       "Date                                                                           \n",
       "2015-12-31  107.01  107.03  104.82  105.26  40912316.0        0.0        1.0   \n",
       "2015-12-30  108.58  108.70  107.18  107.32  25213777.0        0.0        1.0   \n",
       "2015-12-29  106.96  109.43  106.86  108.74  30931243.0        0.0        1.0   \n",
       "\n",
       "                                                   ...        JPM         \\\n",
       "               AdjOpen     AdjHigh      AdjLow     ...        Low  Close   \n",
       "Date                                               ...                     \n",
       "2015-12-31  103.387570  103.406893  101.271705     ...      66.00  66.03   \n",
       "2015-12-30  104.904424  105.020361  103.551815     ...      66.45  66.59   \n",
       "2015-12-29  103.339263  105.725650  103.242648     ...      66.74  67.07   \n",
       "\n",
       "                                                                               \\\n",
       "                Volume ExDividend SplitRatio    AdjOpen    AdjHigh     AdjLow   \n",
       "Date                                                                            \n",
       "2015-12-31  14654049.0        0.0        1.0  62.859378  63.419785  62.678939   \n",
       "2015-12-30   7189850.0        0.0        1.0  63.666607  63.676104  63.106295   \n",
       "2015-12-29   9820660.0        0.0        1.0  63.476671  63.913524  63.381702   \n",
       "\n",
       "                                   \n",
       "             AdjClose   AdjVolume  \n",
       "Date                               \n",
       "2015-12-31  62.707429  14654049.0  \n",
       "2015-12-30  63.239250   7189850.0  \n",
       "2015-12-29  63.695097   9820660.0  \n",
       "\n",
       "[3 rows x 48 columns]"
      ]
     },
     "execution_count": 66,
     "metadata": {},
     "output_type": "execute_result"
    }
   ],
   "source": [
    "bank_stocks.head(3)"
   ]
  },
  {
   "cell_type": "markdown",
   "metadata": {},
   "source": [
    "### Set the column name levels:"
   ]
  },
  {
   "cell_type": "code",
   "execution_count": 67,
   "metadata": {},
   "outputs": [],
   "source": [
    "bank_stocks.columns.names = ['Bank Ticker' , 'Stock Info']"
   ]
  },
  {
   "cell_type": "code",
   "execution_count": 68,
   "metadata": {},
   "outputs": [
    {
     "data": {
      "text/html": [
       "<div>\n",
       "<style scoped>\n",
       "    .dataframe tbody tr th:only-of-type {\n",
       "        vertical-align: middle;\n",
       "    }\n",
       "\n",
       "    .dataframe tbody tr th {\n",
       "        vertical-align: top;\n",
       "    }\n",
       "\n",
       "    .dataframe thead tr th {\n",
       "        text-align: left;\n",
       "    }\n",
       "\n",
       "    .dataframe thead tr:last-of-type th {\n",
       "        text-align: right;\n",
       "    }\n",
       "</style>\n",
       "<table border=\"1\" class=\"dataframe\">\n",
       "  <thead>\n",
       "    <tr>\n",
       "      <th>Bank Ticker</th>\n",
       "      <th colspan=\"10\" halign=\"left\">AAPL</th>\n",
       "      <th>...</th>\n",
       "      <th colspan=\"10\" halign=\"left\">JPM</th>\n",
       "    </tr>\n",
       "    <tr>\n",
       "      <th>Stock Info</th>\n",
       "      <th>Open</th>\n",
       "      <th>High</th>\n",
       "      <th>Low</th>\n",
       "      <th>Close</th>\n",
       "      <th>Volume</th>\n",
       "      <th>ExDividend</th>\n",
       "      <th>SplitRatio</th>\n",
       "      <th>AdjOpen</th>\n",
       "      <th>AdjHigh</th>\n",
       "      <th>AdjLow</th>\n",
       "      <th>...</th>\n",
       "      <th>Low</th>\n",
       "      <th>Close</th>\n",
       "      <th>Volume</th>\n",
       "      <th>ExDividend</th>\n",
       "      <th>SplitRatio</th>\n",
       "      <th>AdjOpen</th>\n",
       "      <th>AdjHigh</th>\n",
       "      <th>AdjLow</th>\n",
       "      <th>AdjClose</th>\n",
       "      <th>AdjVolume</th>\n",
       "    </tr>\n",
       "    <tr>\n",
       "      <th>Date</th>\n",
       "      <th></th>\n",
       "      <th></th>\n",
       "      <th></th>\n",
       "      <th></th>\n",
       "      <th></th>\n",
       "      <th></th>\n",
       "      <th></th>\n",
       "      <th></th>\n",
       "      <th></th>\n",
       "      <th></th>\n",
       "      <th></th>\n",
       "      <th></th>\n",
       "      <th></th>\n",
       "      <th></th>\n",
       "      <th></th>\n",
       "      <th></th>\n",
       "      <th></th>\n",
       "      <th></th>\n",
       "      <th></th>\n",
       "      <th></th>\n",
       "      <th></th>\n",
       "    </tr>\n",
       "  </thead>\n",
       "  <tbody>\n",
       "    <tr>\n",
       "      <th>2015-12-31</th>\n",
       "      <td>107.01</td>\n",
       "      <td>107.03</td>\n",
       "      <td>104.82</td>\n",
       "      <td>105.26</td>\n",
       "      <td>40912316.0</td>\n",
       "      <td>0.0</td>\n",
       "      <td>1.0</td>\n",
       "      <td>103.387570</td>\n",
       "      <td>103.406893</td>\n",
       "      <td>101.271705</td>\n",
       "      <td>...</td>\n",
       "      <td>66.00</td>\n",
       "      <td>66.03</td>\n",
       "      <td>14654049.0</td>\n",
       "      <td>0.0</td>\n",
       "      <td>1.0</td>\n",
       "      <td>62.859378</td>\n",
       "      <td>63.419785</td>\n",
       "      <td>62.678939</td>\n",
       "      <td>62.707429</td>\n",
       "      <td>14654049.0</td>\n",
       "    </tr>\n",
       "    <tr>\n",
       "      <th>2015-12-30</th>\n",
       "      <td>108.58</td>\n",
       "      <td>108.70</td>\n",
       "      <td>107.18</td>\n",
       "      <td>107.32</td>\n",
       "      <td>25213777.0</td>\n",
       "      <td>0.0</td>\n",
       "      <td>1.0</td>\n",
       "      <td>104.904424</td>\n",
       "      <td>105.020361</td>\n",
       "      <td>103.551815</td>\n",
       "      <td>...</td>\n",
       "      <td>66.45</td>\n",
       "      <td>66.59</td>\n",
       "      <td>7189850.0</td>\n",
       "      <td>0.0</td>\n",
       "      <td>1.0</td>\n",
       "      <td>63.666607</td>\n",
       "      <td>63.676104</td>\n",
       "      <td>63.106295</td>\n",
       "      <td>63.239250</td>\n",
       "      <td>7189850.0</td>\n",
       "    </tr>\n",
       "    <tr>\n",
       "      <th>2015-12-29</th>\n",
       "      <td>106.96</td>\n",
       "      <td>109.43</td>\n",
       "      <td>106.86</td>\n",
       "      <td>108.74</td>\n",
       "      <td>30931243.0</td>\n",
       "      <td>0.0</td>\n",
       "      <td>1.0</td>\n",
       "      <td>103.339263</td>\n",
       "      <td>105.725650</td>\n",
       "      <td>103.242648</td>\n",
       "      <td>...</td>\n",
       "      <td>66.74</td>\n",
       "      <td>67.07</td>\n",
       "      <td>9820660.0</td>\n",
       "      <td>0.0</td>\n",
       "      <td>1.0</td>\n",
       "      <td>63.476671</td>\n",
       "      <td>63.913524</td>\n",
       "      <td>63.381702</td>\n",
       "      <td>63.695097</td>\n",
       "      <td>9820660.0</td>\n",
       "    </tr>\n",
       "  </tbody>\n",
       "</table>\n",
       "<p>3 rows × 48 columns</p>\n",
       "</div>"
      ],
      "text/plain": [
       "Bank Ticker    AAPL                                                            \\\n",
       "Stock Info     Open    High     Low   Close      Volume ExDividend SplitRatio   \n",
       "Date                                                                            \n",
       "2015-12-31   107.01  107.03  104.82  105.26  40912316.0        0.0        1.0   \n",
       "2015-12-30   108.58  108.70  107.18  107.32  25213777.0        0.0        1.0   \n",
       "2015-12-29   106.96  109.43  106.86  108.74  30931243.0        0.0        1.0   \n",
       "\n",
       "Bank Ticker                                         ...        JPM         \\\n",
       "Stock Info      AdjOpen     AdjHigh      AdjLow     ...        Low  Close   \n",
       "Date                                                ...                     \n",
       "2015-12-31   103.387570  103.406893  101.271705     ...      66.00  66.03   \n",
       "2015-12-30   104.904424  105.020361  103.551815     ...      66.45  66.59   \n",
       "2015-12-29   103.339263  105.725650  103.242648     ...      66.74  67.07   \n",
       "\n",
       "Bank Ticker                                                          \\\n",
       "Stock Info       Volume ExDividend SplitRatio    AdjOpen    AdjHigh   \n",
       "Date                                                                  \n",
       "2015-12-31   14654049.0        0.0        1.0  62.859378  63.419785   \n",
       "2015-12-30    7189850.0        0.0        1.0  63.666607  63.676104   \n",
       "2015-12-29    9820660.0        0.0        1.0  63.476671  63.913524   \n",
       "\n",
       "Bank Ticker                                    \n",
       "Stock Info      AdjLow   AdjClose   AdjVolume  \n",
       "Date                                           \n",
       "2015-12-31   62.678939  62.707429  14654049.0  \n",
       "2015-12-30   63.106295  63.239250   7189850.0  \n",
       "2015-12-29   63.381702  63.695097   9820660.0  \n",
       "\n",
       "[3 rows x 48 columns]"
      ]
     },
     "execution_count": 68,
     "metadata": {},
     "output_type": "execute_result"
    }
   ],
   "source": [
    "bank_stocks.head(3)"
   ]
  },
  {
   "cell_type": "markdown",
   "metadata": {},
   "source": [
    "### Exploratry Data Analysis"
   ]
  },
  {
   "cell_type": "markdown",
   "metadata": {},
   "source": [
    "#### max Close price for each bank's stock throughout the time period"
   ]
  },
  {
   "cell_type": "code",
   "execution_count": 69,
   "metadata": {},
   "outputs": [
    {
     "data": {
      "text/plain": [
       "Bank Ticker\n",
       "AAPL    702.10\n",
       "BAC      54.90\n",
       "GS      247.92\n",
       "JPM      70.08\n",
       "dtype: float64"
      ]
     },
     "execution_count": 69,
     "metadata": {},
     "output_type": "execute_result"
    }
   ],
   "source": [
    "bank_stocks.xs(key='Close',axis=1,level='Stock Info').max()"
   ]
  },
  {
   "cell_type": "markdown",
   "metadata": {},
   "source": [
    "#### Let's check what was the date when Apple stock closes at all time high"
   ]
  },
  {
   "cell_type": "code",
   "execution_count": 75,
   "metadata": {},
   "outputs": [
    {
     "data": {
      "text/html": [
       "<div>\n",
       "<style scoped>\n",
       "    .dataframe tbody tr th:only-of-type {\n",
       "        vertical-align: middle;\n",
       "    }\n",
       "\n",
       "    .dataframe tbody tr th {\n",
       "        vertical-align: top;\n",
       "    }\n",
       "\n",
       "    .dataframe thead tr th {\n",
       "        text-align: left;\n",
       "    }\n",
       "\n",
       "    .dataframe thead tr:last-of-type th {\n",
       "        text-align: right;\n",
       "    }\n",
       "</style>\n",
       "<table border=\"1\" class=\"dataframe\">\n",
       "  <thead>\n",
       "    <tr>\n",
       "      <th>Bank Ticker</th>\n",
       "      <th colspan=\"10\" halign=\"left\">AAPL</th>\n",
       "      <th>...</th>\n",
       "      <th colspan=\"10\" halign=\"left\">JPM</th>\n",
       "    </tr>\n",
       "    <tr>\n",
       "      <th>Stock Info</th>\n",
       "      <th>Open</th>\n",
       "      <th>High</th>\n",
       "      <th>Low</th>\n",
       "      <th>Close</th>\n",
       "      <th>Volume</th>\n",
       "      <th>ExDividend</th>\n",
       "      <th>SplitRatio</th>\n",
       "      <th>AdjOpen</th>\n",
       "      <th>AdjHigh</th>\n",
       "      <th>AdjLow</th>\n",
       "      <th>...</th>\n",
       "      <th>Low</th>\n",
       "      <th>Close</th>\n",
       "      <th>Volume</th>\n",
       "      <th>ExDividend</th>\n",
       "      <th>SplitRatio</th>\n",
       "      <th>AdjOpen</th>\n",
       "      <th>AdjHigh</th>\n",
       "      <th>AdjLow</th>\n",
       "      <th>AdjClose</th>\n",
       "      <th>AdjVolume</th>\n",
       "    </tr>\n",
       "    <tr>\n",
       "      <th>Date</th>\n",
       "      <th></th>\n",
       "      <th></th>\n",
       "      <th></th>\n",
       "      <th></th>\n",
       "      <th></th>\n",
       "      <th></th>\n",
       "      <th></th>\n",
       "      <th></th>\n",
       "      <th></th>\n",
       "      <th></th>\n",
       "      <th></th>\n",
       "      <th></th>\n",
       "      <th></th>\n",
       "      <th></th>\n",
       "      <th></th>\n",
       "      <th></th>\n",
       "      <th></th>\n",
       "      <th></th>\n",
       "      <th></th>\n",
       "      <th></th>\n",
       "      <th></th>\n",
       "    </tr>\n",
       "  </thead>\n",
       "  <tbody>\n",
       "    <tr>\n",
       "      <th>2012-09-19</th>\n",
       "      <td>700.26</td>\n",
       "      <td>703.99</td>\n",
       "      <td>699.57</td>\n",
       "      <td>702.1</td>\n",
       "      <td>11674100.0</td>\n",
       "      <td>0.0</td>\n",
       "      <td>1.0</td>\n",
       "      <td>90.377366</td>\n",
       "      <td>90.858769</td>\n",
       "      <td>90.288313</td>\n",
       "      <td>...</td>\n",
       "      <td>41.04</td>\n",
       "      <td>41.34</td>\n",
       "      <td>22887200.0</td>\n",
       "      <td>0.0</td>\n",
       "      <td>1.0</td>\n",
       "      <td>35.944406</td>\n",
       "      <td>36.318374</td>\n",
       "      <td>35.692195</td>\n",
       "      <td>35.953103</td>\n",
       "      <td>22887200.0</td>\n",
       "    </tr>\n",
       "  </tbody>\n",
       "</table>\n",
       "<p>1 rows × 48 columns</p>\n",
       "</div>"
      ],
      "text/plain": [
       "Bank Ticker    AAPL                                                           \\\n",
       "Stock Info     Open    High     Low  Close      Volume ExDividend SplitRatio   \n",
       "Date                                                                           \n",
       "2012-09-19   700.26  703.99  699.57  702.1  11674100.0        0.0        1.0   \n",
       "\n",
       "Bank Ticker                                      ...        JPM         \\\n",
       "Stock Info     AdjOpen    AdjHigh     AdjLow     ...        Low  Close   \n",
       "Date                                             ...                     \n",
       "2012-09-19   90.377366  90.858769  90.288313     ...      41.04  41.34   \n",
       "\n",
       "Bank Ticker                                                          \\\n",
       "Stock Info       Volume ExDividend SplitRatio    AdjOpen    AdjHigh   \n",
       "Date                                                                  \n",
       "2012-09-19   22887200.0        0.0        1.0  35.944406  36.318374   \n",
       "\n",
       "Bank Ticker                                    \n",
       "Stock Info      AdjLow   AdjClose   AdjVolume  \n",
       "Date                                           \n",
       "2012-09-19   35.692195  35.953103  22887200.0  \n",
       "\n",
       "[1 rows x 48 columns]"
      ]
     },
     "execution_count": 75,
     "metadata": {},
     "output_type": "execute_result"
    }
   ],
   "source": [
    "bank_stocks[bank_stocks['AAPL'].Close == 702.10]"
   ]
  },
  {
   "cell_type": "markdown",
   "metadata": {},
   "source": [
    "So on 2012-09-19 the apple stock was closes on all time high."
   ]
  },
  {
   "cell_type": "markdown",
   "metadata": {},
   "source": [
    "** Creating a new empty DataFrame called returns. This dataframe will contain the returns for each bank's stock. returns are typically defined by:**\n",
    "\n",
    "$$r_t = \\frac{p_t - p_{t-1}}{p_{t-1}} = \\frac{p_t}{p_{t-1}} - 1$$"
   ]
  },
  {
   "cell_type": "code",
   "execution_count": 71,
   "metadata": {},
   "outputs": [],
   "source": [
    "returns=pd.DataFrame()"
   ]
  },
  {
   "cell_type": "markdown",
   "metadata": {},
   "source": [
    "We can use pandas **pct_change()** method on the **Close** column to create a column representing this return value. Create a for loop that goes and for each Bank Stock Ticker creates this returns column and set's it as a column in the returns DataFrame."
   ]
  },
  {
   "cell_type": "code",
   "execution_count": 72,
   "metadata": {},
   "outputs": [
    {
     "data": {
      "text/html": [
       "<div>\n",
       "<style scoped>\n",
       "    .dataframe tbody tr th:only-of-type {\n",
       "        vertical-align: middle;\n",
       "    }\n",
       "\n",
       "    .dataframe tbody tr th {\n",
       "        vertical-align: top;\n",
       "    }\n",
       "\n",
       "    .dataframe thead th {\n",
       "        text-align: right;\n",
       "    }\n",
       "</style>\n",
       "<table border=\"1\" class=\"dataframe\">\n",
       "  <thead>\n",
       "    <tr style=\"text-align: right;\">\n",
       "      <th></th>\n",
       "      <th>AAPL Return</th>\n",
       "      <th>BAC Return</th>\n",
       "      <th>GS Return</th>\n",
       "      <th>JPM Return</th>\n",
       "    </tr>\n",
       "    <tr>\n",
       "      <th>Date</th>\n",
       "      <th></th>\n",
       "      <th></th>\n",
       "      <th></th>\n",
       "      <th></th>\n",
       "    </tr>\n",
       "  </thead>\n",
       "  <tbody>\n",
       "    <tr>\n",
       "      <th>2015-12-31</th>\n",
       "      <td>NaN</td>\n",
       "      <td>NaN</td>\n",
       "      <td>NaN</td>\n",
       "      <td>NaN</td>\n",
       "    </tr>\n",
       "    <tr>\n",
       "      <th>2015-12-30</th>\n",
       "      <td>0.019571</td>\n",
       "      <td>0.013072</td>\n",
       "      <td>0.009876</td>\n",
       "      <td>0.008481</td>\n",
       "    </tr>\n",
       "    <tr>\n",
       "      <th>2015-12-29</th>\n",
       "      <td>0.013231</td>\n",
       "      <td>0.013490</td>\n",
       "      <td>0.008351</td>\n",
       "      <td>0.007208</td>\n",
       "    </tr>\n",
       "    <tr>\n",
       "      <th>2015-12-28</th>\n",
       "      <td>-0.017657</td>\n",
       "      <td>-0.008681</td>\n",
       "      <td>-0.010407</td>\n",
       "      <td>-0.010288</td>\n",
       "    </tr>\n",
       "    <tr>\n",
       "      <th>2015-12-24</th>\n",
       "      <td>0.011327</td>\n",
       "      <td>0.008173</td>\n",
       "      <td>0.004680</td>\n",
       "      <td>0.003314</td>\n",
       "    </tr>\n",
       "  </tbody>\n",
       "</table>\n",
       "</div>"
      ],
      "text/plain": [
       "            AAPL Return  BAC Return  GS Return  JPM Return\n",
       "Date                                                      \n",
       "2015-12-31          NaN         NaN        NaN         NaN\n",
       "2015-12-30     0.019571    0.013072   0.009876    0.008481\n",
       "2015-12-29     0.013231    0.013490   0.008351    0.007208\n",
       "2015-12-28    -0.017657   -0.008681  -0.010407   -0.010288\n",
       "2015-12-24     0.011327    0.008173   0.004680    0.003314"
      ]
     },
     "execution_count": 72,
     "metadata": {},
     "output_type": "execute_result"
    }
   ],
   "source": [
    "for tick in tickers:\n",
    "    returns[tick+' Return']=bank_stocks[tick]['Close'].pct_change()\n",
    "returns.head()"
   ]
  },
  {
   "cell_type": "markdown",
   "metadata": {},
   "source": [
    "### Create a pairplot using seaborn of the returns dataframe. "
   ]
  },
  {
   "cell_type": "code",
   "execution_count": 73,
   "metadata": {},
   "outputs": [
    {
     "data": {
      "text/plain": [
       "<seaborn.axisgrid.PairGrid at 0x1a76be5aa20>"
      ]
     },
     "execution_count": 73,
     "metadata": {},
     "output_type": "execute_result"
    },
    {
     "data": {
      "image/png": "[encoded data removed]",
      "text/plain": [
       "<matplotlib.figure.Figure at 0x1a76be5aef0>"
      ]
     },
     "metadata": {},
     "output_type": "display_data"
    }
   ],
   "source": [
    "sns.pairplot(returns[1:])"
   ]
  },
  {
   "cell_type": "markdown",
   "metadata": {},
   "source": [
    "It seems except Apple rest all three companies have similer returns."
   ]
  },
  {
   "cell_type": "markdown",
   "metadata": {},
   "source": [
    "#### Let's see the date of maximum return for all four companies"
   ]
  },
  {
   "cell_type": "code",
   "execution_count": 76,
   "metadata": {},
   "outputs": [
    {
     "data": {
      "text/plain": [
       "AAPL Return   2014-06-06\n",
       "BAC Return    2009-01-16\n",
       "GS Return     2009-01-16\n",
       "JPM Return    2009-01-16\n",
       "dtype: datetime64[ns]"
      ]
     },
     "execution_count": 76,
     "metadata": {},
     "output_type": "execute_result"
    }
   ],
   "source": [
    "returns.idxmax()"
   ]
  },
  {
   "cell_type": "markdown",
   "metadata": {},
   "source": [
    "Except Apple rest all three companies have shared same date of highest return.\n",
    "So, think goes on this day what was actually happend this day and once you do google you find out that it was President Obama Oath ceromony that day."
   ]
  },
  {
   "cell_type": "markdown",
   "metadata": {},
   "source": [
    "#### Let's see the date of minimum return for all four companies"
   ]
  },
  {
   "cell_type": "code",
   "execution_count": 77,
   "metadata": {},
   "outputs": [
    {
     "data": {
      "text/plain": [
       "AAPL Return   2008-10-10\n",
       "BAC Return    2009-04-08\n",
       "GS Return     2008-11-21\n",
       "JPM Return    2009-01-20\n",
       "dtype: datetime64[ns]"
      ]
     },
     "execution_count": 77,
     "metadata": {},
     "output_type": "execute_result"
    }
   ],
   "source": [
    "returns.idxmin()"
   ]
  },
  {
   "cell_type": "markdown",
   "metadata": {},
   "source": [
    "So, by this analysis we can say that from end months of 2008 to first months of 2009 there was worst time for Stock market."
   ]
  },
  {
   "cell_type": "markdown",
   "metadata": {},
   "source": [
    "#### Take a look at the standard deviation of the returns, which stock would you classify as the riskiest over the entire time period? Which would you classify as the riskiest for the year 2015?"
   ]
  },
  {
   "cell_type": "code",
   "execution_count": 78,
   "metadata": {},
   "outputs": [
    {
     "data": {
      "text/plain": [
       "AAPL Return    0.119421\n",
       "BAC Return     0.037062\n",
       "GS Return      0.025155\n",
       "JPM Return     0.027392\n",
       "dtype: float64"
      ]
     },
     "execution_count": 78,
     "metadata": {},
     "output_type": "execute_result"
    }
   ],
   "source": [
    "returns.std()"
   ]
  },
  {
   "cell_type": "markdown",
   "metadata": {},
   "source": [
    "So, this data says that Apple stock is very riskiest over rest three Companies"
   ]
  },
  {
   "cell_type": "code",
   "execution_count": 133,
   "metadata": {},
   "outputs": [
    {
     "data": {
      "text/plain": [
       "AAPL Return    0.016878\n",
       "BAC Return     0.016216\n",
       "GS Return      0.014152\n",
       "JPM Return     0.014088\n",
       "dtype: float64"
      ]
     },
     "execution_count": 133,
     "metadata": {},
     "output_type": "execute_result"
    }
   ],
   "source": [
    "returns.loc['2015-12-30':'2015-01-01'].std()"
   ]
  },
  {
   "cell_type": "markdown",
   "metadata": {},
   "source": [
    "#### Let's check the seaborn distplot of Apple return to see the unstability"
   ]
  },
  {
   "cell_type": "code",
   "execution_count": 116,
   "metadata": {},
   "outputs": [
    {
     "data": {
      "text/plain": [
       "<matplotlib.axes._subplots.AxesSubplot at 0x1a76ac65a58>"
      ]
     },
     "execution_count": 116,
     "metadata": {},
     "output_type": "execute_result"
    },
    {
     "data": {
      "image/png": "[encoded data removed]",
      "text/plain": [
       "<matplotlib.figure.Figure at 0x1a76adc99b0>"
      ]
     },
     "metadata": {},
     "output_type": "display_data"
    }
   ],
   "source": [
    "sns.distplot(returns.loc['2015-12-30':'2015-01-01']['AAPL Return'],color='Green',bins=50)"
   ]
  },
  {
   "cell_type": "markdown",
   "metadata": {},
   "source": [
    "Seems very imbalanced return and very risky"
   ]
  },
  {
   "cell_type": "markdown",
   "metadata": {},
   "source": [
    "#### Creating a line plot showing Close price for each bank for the entire index of time."
   ]
  },
  {
   "cell_type": "code",
   "execution_count": 120,
   "metadata": {},
   "outputs": [
    {
     "data": {
      "text/plain": [
       "<matplotlib.legend.Legend at 0x1a76a1d4eb8>"
      ]
     },
     "execution_count": 120,
     "metadata": {},
     "output_type": "execute_result"
    },
    {
     "data": {
      "image/png": "[encoded data removed]",
      "text/plain": [
       "<matplotlib.figure.Figure at 0x1a76b5dde48>"
      ]
     },
     "metadata": {},
     "output_type": "display_data"
    }
   ],
   "source": [
    "for tick in tickers:\n",
    "    bank_stocks[tick]['Close'].plot(label=tick ,figsize=(12,4))\n",
    "plt.legend()\n",
    "\n",
    "# OR\n",
    "# bank_stocks.xs(key='Close',axis=1,level='Stock Info').plot()"
   ]
  },
  {
   "cell_type": "markdown",
   "metadata": {},
   "source": [
    "we can see here that from 2011 to 2014 the return of stock for Apple was too high and after that it went way down to the bottom.\n",
    "For golden Saches you can see around 2009 it's return went down for few months and came back where they was."
   ]
  },
  {
   "cell_type": "markdown",
   "metadata": {},
   "source": [
    "#### Moving Averages"
   ]
  },
  {
   "cell_type": "code",
   "execution_count": 129,
   "metadata": {},
   "outputs": [
    {
     "data": {
      "text/plain": [
       "<matplotlib.legend.Legend at 0x1a76b9cd588>"
      ]
     },
     "execution_count": 129,
     "metadata": {},
     "output_type": "execute_result"
    },
    {
     "data": {
      "image/png": "[encoded data removed]",
      "text/plain": [
       "<matplotlib.figure.Figure at 0x1a76b9cdd68>"
      ]
     },
     "metadata": {},
     "output_type": "display_data"
    }
   ],
   "source": [
    "plt.figure(figsize=(12,4))\n",
    "BAC['Close'].loc['01-01-2009':'01-01-2008'].rolling(window=30).mean().plot(label='30 day moving Average')\n",
    "BAC['Close'].loc['01-01-2009':'01-01-2008'].plot(label='BAC')\n",
    "plt.legend()"
   ]
  },
  {
   "cell_type": "markdown",
   "metadata": {},
   "source": [
    "Here is the moving average of Bank of America for 30 days vs the actual montly closing price. These information gives the trends for the stock"
   ]
  },
  {
   "cell_type": "markdown",
   "metadata": {},
   "source": [
    "#### Let's create a heatmap of the correlation between the stocks close price"
   ]
  },
  {
   "cell_type": "code",
   "execution_count": 130,
   "metadata": {},
   "outputs": [
    {
     "data": {
      "text/plain": [
       "<matplotlib.axes._subplots.AxesSubplot at 0x1a76a36e898>"
      ]
     },
     "execution_count": 130,
     "metadata": {},
     "output_type": "execute_result"
    },
    {
     "data": {
      "image/png": "[encoded data removed]",
      "text/plain": [
       "<matplotlib.figure.Figure at 0x1a76a36ae48>"
      ]
     },
     "metadata": {},
     "output_type": "display_data"
    }
   ],
   "source": [
    "sns.heatmap(bank_stocks.xs(key='Close', axis=1 , level='Stock Info').corr() ,annot=True)"
   ]
  },
  {
   "cell_type": "markdown",
   "metadata": {},
   "source": [
    "#### Let's create a cluster map of the correlation between the stocks close price"
   ]
  },
  {
   "cell_type": "code",
   "execution_count": 131,
   "metadata": {},
   "outputs": [
    {
     "data": {
      "text/plain": [
       "<seaborn.matrix.ClusterGrid at 0x1a76a8e2c88>"
      ]
     },
     "execution_count": 131,
     "metadata": {},
     "output_type": "execute_result"
    },
    {
     "data": {
      "image/png": "[encoded data removed]",
      "text/plain": [
       "<matplotlib.figure.Figure at 0x1a76a8e2e10>"
      ]
     },
     "metadata": {},
     "output_type": "display_data"
    }
   ],
   "source": [
    "sns.clustermap(bank_stocks.xs(key='Close', axis=1 , level='Stock Info').corr() ,annot=True)"
   ]
  },
  {
   "cell_type": "markdown",
   "metadata": {},
   "source": [
    "### Thanks !! for watching my work."
   ]
  }
 ],
 "metadata": {
  "kernelspec": {
   "display_name": "Python 3",
   "language": "python",
   "name": "python3"
  },
  "language_info": {
   "codemirror_mode": {
    "name": "ipython",
    "version": 3
   },
   "file_extension": ".py",
   "mimetype": "text/x-python",
   "name": "python",
   "nbconvert_exporter": "python",
   "pygments_lexer": "ipython3",
   "version": "3.6.4"
  }
 },
 "nbformat": 4,
 "nbformat_minor": 2
}
